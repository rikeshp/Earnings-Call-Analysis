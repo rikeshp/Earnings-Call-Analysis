{
 "cells": [
  {
   "cell_type": "code",
   "execution_count": 30,
   "metadata": {
    "scrolled": true
   },
   "outputs": [
    {
     "name": "stdout",
     "output_type": "stream",
     "text": [
      "      title                                            content\n",
      "10  2016_Q2   Clients and Sequoia Shareholders: \\n \\nYou ma...\n",
      "11  2016_Q3   Clients and Shareholders: \\n\\n \\n\\nThe third ...\n",
      "15  2016_Q4   Shareholder: \\n\\nWe completed our most diffic...\n",
      "2   2017_Q1   Shareholder: \\n \\nSequoia Fund generated a 5....\n",
      "1   2017_Q2   Sequoia Shareholders and Clients: \\n\\nSequoia...\n",
      "0   2017_Q3   Sequoia Shareholders and Clients:  \\n\\nSequoi...\n",
      "5   2017_Q4   Sequoia Shareholders and Clients: \\n\\nSequoia...\n",
      "14  2018_Q1   Sequoia Shareholders and Clients:  \\n\\nFor th...\n",
      "12  2018_Q2   Sequoia Shareholders and Clients:  \\n\\nFor th...\n",
      "13  2018_Q3   Sequoia Shareholders and Clients:  \\n\\nFor th...\n",
      "8   2018_Q4   Sequoia Shareholders and Clients:  \\n\\nSequoi...\n",
      "4   2019_Q1   Sequoia Shareholders and Clients:  \\n\\nFor th...\n",
      "7   2019_Q2   Sequoia Shareholders and Clients:  \\n\\nFor th...\n",
      "6   2019_Q3   Sequoia Shareholders and Clients:  \\n\\nFor th...\n",
      "3   2019_Q4   Sequoia Shareholders and Clients:  \\n\\nSequoi...\n",
      "9   2020_Q1   Sequoia Shareholders and Clients:  \\n \\nFor t...\n"
     ]
    }
   ],
   "source": [
    "import os\n",
    "from tika import parser\n",
    "from gensim.parsing.preprocessing import remove_stopwords\n",
    "from gensim import corpora, matutils, models, similarities\n",
    "from spacy.lang.en import English\n",
    "import pandas as pd\n",
    "import re \n",
    "\n",
    "#create dataframe for letter contents\n",
    "files = [i for i in os.listdir(\"SequoiaLetters2\")]\n",
    "letters=[]\n",
    "f_letters=[]\n",
    "for file in files:\n",
    "    filename = os.path.basename(file)\n",
    "    letterName = filename.strip('.pdf')\n",
    "    file_data = parser.from_file(file) \n",
    "    text = file_data['content']\n",
    "    filtered_text = remove_stopwords(text)\n",
    "    #Remove excess words (before and after letter)\n",
    "    split_text = text.split(\"Disclosures\", 1)\n",
    "    text = split_text[0]\n",
    "   \n",
    "    split_text2 = text.split(\"Dear\", 1)\n",
    "    text = split_text2[1]\n",
    "    filtered_text = remove_stopwords(text)\n",
    "    letters.append([letterName,text])\n",
    "    f_letters.append([letterName,text])\n",
    "\n",
    "df_raw = pd.DataFrame(letters, columns=['title','content'])\n",
    "df_raw = df_raw.sort_values('title')\n",
    "df_filtered = pd.DataFrame(f_letters, columns=['title','content'])\n",
    "df_filtered = df_filtered.sort_values('title')\n",
    "\n",
    "print(df_raw)"
   ]
  },
  {
   "cell_type": "code",
   "execution_count": 32,
   "metadata": {},
   "outputs": [
    {
     "name": "stdout",
     "output_type": "stream",
     "text": [
      "[['trimble', 0.23898194131396666], ['walmart', 0.18035948435115173], ['bank', 0.179236455985475], ['dental', 0.179236455985475], ['sirona', 0.15038583058059174]]\n"
     ]
    }
   ],
   "source": [
    "from gensim import corpora, matutils, models, similarities\n",
    "import re \n",
    "\n",
    "#word tokenization of letters\n",
    "word_list = []\n",
    "for letter in df_filtered.content:\n",
    "    word_list.append(re.findall('(\\\\w+)', letter.lower()))\n",
    "\n",
    "#create lexicon of tokenized words\n",
    "lexicon = corpora.Dictionary(word_list)\n",
    "lexicon.token2id\n",
    "\n",
    "#create bag of words from lexicon\n",
    "bow = []\n",
    "for t in word_list:\n",
    "    bow.append(lexicon.doc2bow(t))\n",
    "\n",
    "#build tfidf model to determine 5 most relevant words\n",
    "tfidf = models.TfidfModel(bow)\n",
    "tf_obj = tfidf[bow[1]]\n",
    "n_terms = 5\n",
    "top_terms = []\n",
    "for obj in sorted(tf_obj, key=lambda x: x[1], reverse=True)[:n_terms]:\n",
    "    top_terms.append([lexicon[obj[0]], obj[1]])\n",
    "\n",
    "print(top_terms)"
   ]
  },
  {
   "cell_type": "code",
   "execution_count": 46,
   "metadata": {},
   "outputs": [
    {
     "data": {
      "text/plain": [
       "Text(0.5, 1.0, 'Top 5 Relevant Words for Q3 2016 Letter')"
      ]
     },
     "execution_count": 46,
     "metadata": {},
     "output_type": "execute_result"
    },
    {
     "data": {
      "image/png": "[encoded data removed]",
      "text/plain": [
       "<Figure size 432x288 with 1 Axes>"
      ]
     },
     "metadata": {},
     "output_type": "display_data"
    }
   ],
   "source": [
    "import seaborn as sns\n",
    "\n",
    "#visualize important words\n",
    "df_tfidf = pd.DataFrame(top_terms, columns=['word','weight'])\n",
    "sns.barplot(x=\"weight\",y=\"word\", data=df_tfidf, palette=\"Set3\").set_title(\"Top 5 Relevant Words for Q3 2016 Letter\")"
   ]
  },
  {
   "cell_type": "code",
   "execution_count": null,
   "metadata": {},
   "outputs": [],
   "source": []
  }
 ],
 "metadata": {
  "kernelspec": {
   "display_name": "Python 3",
   "language": "python",
   "name": "python3"
  },
  "language_info": {
   "codemirror_mode": {
    "name": "ipython",
    "version": 3
   },
   "file_extension": ".py",
   "mimetype": "text/x-python",
   "name": "python",
   "nbconvert_exporter": "python",
   "pygments_lexer": "ipython3",
   "version": "3.7.7"
  }
 },
 "nbformat": 4,
 "nbformat_minor": 4
}
